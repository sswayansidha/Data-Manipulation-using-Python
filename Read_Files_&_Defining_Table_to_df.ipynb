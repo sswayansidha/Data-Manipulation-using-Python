{
  "nbformat": 4,
  "nbformat_minor": 0,
  "metadata": {
    "colab": {
      "name": "Read Files & Defining Table to df.ipynb",
      "provenance": [],
      "collapsed_sections": [],
      "authorship_tag": "ABX9TyMzRyMHATCvwSu6L+EAVPtp",
      "include_colab_link": true
    },
    "kernelspec": {
      "name": "python3",
      "display_name": "Python 3"
    },
    "language_info": {
      "name": "python"
    }
  },
  "cells": [
    {
      "cell_type": "markdown",
      "metadata": {
        "id": "view-in-github",
        "colab_type": "text"
      },
      "source": [
        "<a href=\"https://colab.research.google.com/github/sswayansidha/Data-Manipulation-using-Python/blob/main/Read_Files_%26_Defining_Table_to_df.ipynb\" target=\"_parent\"><img src=\"https://colab.research.google.com/assets/colab-badge.svg\" alt=\"Open In Colab\"/></a>"
      ]
    },
    {
      "cell_type": "code",
      "execution_count": null,
      "metadata": {
        "id": "fBz40mEPRGXK"
      },
      "outputs": [],
      "source": [
        "import pandas as pd"
      ]
    },
    {
      "cell_type": "markdown",
      "source": [
        "**Defining Data**"
      ],
      "metadata": {
        "id": "TQxDmq2KRqwI"
      }
    },
    {
      "cell_type": "code",
      "source": [
        "data = {'product_name': ['laptop', 'printer', 'tablet', 'desk', 'chair'],\n",
        "        'price': [1200, 150, 300, 450, 200]\n",
        "        }\n",
        "\n",
        "df = pd.DataFrame(data)\n",
        "\n",
        "print (df)"
      ],
      "metadata": {
        "colab": {
          "base_uri": "https://localhost:8080/"
        },
        "id": "Rkv8PlOpRg_c",
        "outputId": "4ba93e96-60f9-4d00-a6f1-6c7d6d92afb6"
      },
      "execution_count": null,
      "outputs": [
        {
          "output_type": "stream",
          "name": "stdout",
          "text": [
            "  product_name  price\n",
            "0       laptop   1200\n",
            "1      printer    150\n",
            "2       tablet    300\n",
            "3         desk    450\n",
            "4        chair    200\n"
          ]
        }
      ]
    },
    {
      "cell_type": "code",
      "source": [
        "print(\"done\")"
      ],
      "metadata": {
        "id": "Lu-bb-NVRzz0"
      },
      "execution_count": null,
      "outputs": []
    }
  ]
}